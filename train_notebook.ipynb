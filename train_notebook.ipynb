{
  "cells": [
    {
      "cell_type": "markdown",
      "metadata": {
        "id": "yYryuRDeqbxK"
      },
      "source": [
        "# **Cultura e Práticas em DataOps e MLOps**\n",
        "**Autor**: Renan Santos Mendes\n",
        "\n",
        "**Email**: renansantosmendes@gmail.com\n",
        "\n",
        "**Descrição**: Este notebook apresenta um exemplo de uma rede neural profunda com mais de uma camada para um problema de classificação.\n",
        "\n",
        "\n",
        "# **Saúde Fetal**\n",
        "\n",
        "As Cardiotocografias (CTGs) são opções simples e de baixo custo para avaliar a saúde fetal, permitindo que os profissionais de saúde atuem na prevenção da mortalidade infantil e materna. O próprio equipamento funciona enviando pulsos de ultrassom e lendo sua resposta, lançando luz sobre a frequência cardíaca fetal (FCF), movimentos fetais, contrações uterinas e muito mais.\n",
        "\n",
        "Este conjunto de dados contém 2126 registros de características extraídas de exames de Cardiotocografias, que foram então classificados por três obstetras especialistas em 3 classes:\n",
        "\n",
        "- Normal\n",
        "- Suspeito\n",
        "- Patológico"
      ]
    },
    {
      "cell_type": "markdown",
      "metadata": {
        "id": "MkB47-my-kq9"
      },
      "source": [
        "# Instalando pacotes"
      ]
    },
    {
      "cell_type": "code",
      "execution_count": 1,
      "metadata": {
        "id": "bRE1wGJ9-jxZ"
      },
      "outputs": [],
      "source": [
        "%%capture\n",
        "!pip install mlflow"
      ]
    },
    {
      "cell_type": "markdown",
      "metadata": {
        "id": "4WgsLeJngPb1"
      },
      "source": [
        "# 1 - Importando os módulos necessários"
      ]
    },
    {
      "cell_type": "code",
      "execution_count": 35,
      "metadata": {
        "id": "55YREGWfhXuu"
      },
      "outputs": [],
      "source": [
        "import os\n",
        "import random\n",
        "import numpy as np\n",
        "import random as python_random\n",
        "#import tensorflow\n",
        "import tensorflow as tf\n",
        "from tensorflow import keras\n",
        "from keras.models import Sequential\n",
        "from keras.layers import Dense, InputLayer\n",
        "from keras.utils import to_categorical\n",
        "\n",
        "import pandas as pd\n",
        "import matplotlib.pyplot as plt\n",
        "from sklearn import preprocessing\n",
        "from sklearn.preprocessing import StandardScaler\n",
        "from sklearn.model_selection import train_test_split"
      ]
    },
    {
      "cell_type": "markdown",
      "metadata": {
        "id": "NFTzaAkEr-IP"
      },
      "source": [
        "# Definindo funções adicionais"
      ]
    },
    {
      "cell_type": "code",
      "execution_count": 36,
      "metadata": {
        "id": "OgKUlrlbozyR"
      },
      "outputs": [],
      "source": [
        "def reset_seeds() -> None:\n",
        "  \"\"\"\n",
        "  Resets the seeds to ensure reproducibility of results.\n",
        "\n",
        "  This function sets the seed for various random number generation libraries\n",
        "  to ensure that results are reproducible. The affected libraries are:\n",
        "  - Python's built-in `random`\n",
        "  - NumPy\n",
        "  - TensorFlow\n",
        "\n",
        "  The seed used is 42.\n",
        "\n",
        "  Returns:\n",
        "      None\n",
        "  \"\"\"\n",
        "  os.environ['PYTHONHASHSEED']=str(42)\n",
        "  tf.random.set_seed(42)\n",
        "  np.random.seed(42)\n",
        "  random.seed(42)"
      ]
    },
    {
      "cell_type": "markdown",
      "metadata": {
        "id": "I5uGdrdeh0QG"
      },
      "source": [
        "# 2 - Fazendo a leitura do dataset e atribuindo às respectivas variáveis"
      ]
    },
    {
      "cell_type": "code",
      "execution_count": 37,
      "metadata": {
        "id": "95168wcThmD2"
      },
      "outputs": [],
      "source": [
        "url = 'raw.githubusercontent.com'\n",
        "username = 'renansantosmendes'\n",
        "repository = 'lectures-cdas-2023'\n",
        "file_name = 'fetal_health_reduced.csv'\n",
        "data = pd.read_csv(f'https://{url}/{username}/{repository}/master/{file_name}')"
      ]
    },
    {
      "cell_type": "markdown",
      "metadata": {
        "id": "TEM30W0agQA_"
      },
      "source": [
        "# Dando uma leve olhada nos dados"
      ]
    },
    {
      "cell_type": "code",
      "execution_count": 38,
      "metadata": {
        "id": "HkQ-JIfWo3Wh"
      },
      "outputs": [
        {
          "data": {
            "text/html": [
              "<div>\n",
              "<style scoped>\n",
              "    .dataframe tbody tr th:only-of-type {\n",
              "        vertical-align: middle;\n",
              "    }\n",
              "\n",
              "    .dataframe tbody tr th {\n",
              "        vertical-align: top;\n",
              "    }\n",
              "\n",
              "    .dataframe thead th {\n",
              "        text-align: right;\n",
              "    }\n",
              "</style>\n",
              "<table border=\"1\" class=\"dataframe\">\n",
              "  <thead>\n",
              "    <tr style=\"text-align: right;\">\n",
              "      <th></th>\n",
              "      <th>severe_decelerations</th>\n",
              "      <th>accelerations</th>\n",
              "      <th>fetal_movement</th>\n",
              "      <th>uterine_contractions</th>\n",
              "      <th>fetal_health</th>\n",
              "    </tr>\n",
              "  </thead>\n",
              "  <tbody>\n",
              "    <tr>\n",
              "      <th>0</th>\n",
              "      <td>0.0</td>\n",
              "      <td>0.0</td>\n",
              "      <td>0.0</td>\n",
              "      <td>0.0</td>\n",
              "      <td>2.0</td>\n",
              "    </tr>\n",
              "    <tr>\n",
              "      <th>1</th>\n",
              "      <td>0.0</td>\n",
              "      <td>6.0</td>\n",
              "      <td>0.0</td>\n",
              "      <td>6.0</td>\n",
              "      <td>1.0</td>\n",
              "    </tr>\n",
              "    <tr>\n",
              "      <th>2</th>\n",
              "      <td>0.0</td>\n",
              "      <td>3.0</td>\n",
              "      <td>0.0</td>\n",
              "      <td>8.0</td>\n",
              "      <td>1.0</td>\n",
              "    </tr>\n",
              "    <tr>\n",
              "      <th>3</th>\n",
              "      <td>0.0</td>\n",
              "      <td>3.0</td>\n",
              "      <td>0.0</td>\n",
              "      <td>8.0</td>\n",
              "      <td>1.0</td>\n",
              "    </tr>\n",
              "    <tr>\n",
              "      <th>4</th>\n",
              "      <td>0.0</td>\n",
              "      <td>7.0</td>\n",
              "      <td>0.0</td>\n",
              "      <td>8.0</td>\n",
              "      <td>1.0</td>\n",
              "    </tr>\n",
              "  </tbody>\n",
              "</table>\n",
              "</div>"
            ],
            "text/plain": [
              "   severe_decelerations  accelerations  fetal_movement  uterine_contractions  \\\n",
              "0                   0.0            0.0             0.0                   0.0   \n",
              "1                   0.0            6.0             0.0                   6.0   \n",
              "2                   0.0            3.0             0.0                   8.0   \n",
              "3                   0.0            3.0             0.0                   8.0   \n",
              "4                   0.0            7.0             0.0                   8.0   \n",
              "\n",
              "   fetal_health  \n",
              "0           2.0  \n",
              "1           1.0  \n",
              "2           1.0  \n",
              "3           1.0  \n",
              "4           1.0  "
            ]
          },
          "execution_count": 38,
          "metadata": {},
          "output_type": "execute_result"
        }
      ],
      "source": [
        "data.head()"
      ]
    },
    {
      "cell_type": "markdown",
      "metadata": {
        "id": "1eQEA-fzgQ0G"
      },
      "source": [
        "# 3 - Preparando o dado antes de iniciar o treino do modelo"
      ]
    },
    {
      "cell_type": "code",
      "execution_count": 39,
      "metadata": {
        "id": "jBK7SgPxh7YY"
      },
      "outputs": [],
      "source": [
        "X=data.drop([\"fetal_health\"], axis=1)\n",
        "y=data[\"fetal_health\"]\n",
        "\n",
        "columns_names = list(X.columns)\n",
        "scaler = preprocessing.StandardScaler()\n",
        "X_df = scaler.fit_transform(X)\n",
        "X_df = pd.DataFrame(X_df, columns=columns_names)\n",
        "\n",
        "X_train, X_test, y_train, y_test = train_test_split(X_df,\n",
        "                                                    y,\n",
        "                                                    test_size=0.3,\n",
        "                                                    random_state=42)\n",
        "\n",
        "y_train = y_train -1\n",
        "y_test = y_test - 1"
      ]
    },
    {
      "cell_type": "markdown",
      "metadata": {
        "id": "54CmcOG1gRn9"
      },
      "source": [
        "# 4 - Criando o modelo e adicionando as camadas"
      ]
    },
    {
      "cell_type": "code",
      "execution_count": 40,
      "metadata": {
        "id": "4y2kKy_EkLGt"
      },
      "outputs": [],
      "source": [
        "reset_seeds()\n",
        "model = Sequential()\n",
        "#model.add(InputLayer(input_shape=(X_train.shape[1], ))) #UserWarning: Argument `input_shape` is deprecated. Use `shape` instead. warnings.warn(\n",
        "model.add(InputLayer(shape=(X_train.shape[1], )))\n",
        "model.add(Dense(units=10, activation='relu'))\n",
        "model.add(Dense(units=10, activation='relu'))\n",
        "model.add(Dense(units=3, activation='softmax'))"
      ]
    },
    {
      "cell_type": "markdown",
      "metadata": {
        "id": "E0JmDrz6iQDw"
      },
      "source": [
        "# 5 - Compilando o modelo\n"
      ]
    },
    {
      "cell_type": "code",
      "execution_count": 41,
      "metadata": {
        "id": "7IeY0b4i1gQj"
      },
      "outputs": [],
      "source": [
        "model.compile(loss='sparse_categorical_crossentropy',\n",
        "              optimizer='adam',\n",
        "              metrics=['accuracy'])"
      ]
    },
    {
      "cell_type": "markdown",
      "metadata": {
        "id": "KTO_8Ky9idGZ"
      },
      "source": [
        "##**Configurando o mlflow**"
      ]
    },
    {
      "cell_type": "code",
      "execution_count": null,
      "metadata": {
        "id": "9RlCNYss91nf"
      },
      "outputs": [
        {
          "name": "stderr",
          "output_type": "stream",
          "text": [
            "2025/08/28 15:51:51 WARNING mlflow.utils.autologging_utils: You are using an unsupported version of keras. If you encounter errors during autologging, try upgrading / downgrading keras to a supported version, or try upgrading MLflow.\n"
          ]
        }
      ],
      "source": [
        "import mlflow\n",
        "\n",
        "#os.environ['MLFLOW_TRACKING_USERNAME'] = 'renansantosmendes'\n",
        "#os.environ['MLFLOW_TRACKING_PASSWORD'] = '6d730ef4a90b1caf28fbb01e5748f0874fda6077'\n",
        "#mlflow.set_tracking_uri('https://dagshub.com/renansantosmendes/puc_lectures_mlops.mlflowmlflow\n",
        "\n",
        "#Ambiente local\n",
        "mlflow.set_tracking_uri(\"file:///C:/Users/Raphael/IdeaProjects/MLUnidade3/mlruns\")\n",
        "mlflow.set_experiment(\"experiment_mlops_ead\") #Output is truncated. View as a scrollable element or open in a text editor. Adjust cell output settings... 2025/08/28 15:27:45 WARNING mlflow.utils.environment: Encountered an unexpected error while inferring pip requirements (model URI: C:\\Users\\Raphael\\AppData\\Local\\Temp\\tmp777l1328\\model, flavor: keras). Fall back to return ['keras==3.11.2']. Set logging level to DEBUG to see the full traceback\n",
        "\n",
        "mlflow.keras.autolog(log_models=True,\n",
        "                     log_input_examples=True,\n",
        "                     log_model_signatures=True)"
      ]
    },
    {
      "cell_type": "markdown",
      "metadata": {
        "id": "MoHbKkvCim-p"
      },
      "source": [
        "# 6 - Executando o treino do modelo"
      ]
    },
    {
      "cell_type": "code",
      "execution_count": 43,
      "metadata": {
        "id": "w8IX2tHI2VX4"
      },
      "outputs": [
        {
          "ename": "MlflowException",
          "evalue": "Could not find experiment with ID 446108634654556778",
          "output_type": "error",
          "traceback": [
            "\u001b[31m---------------------------------------------------------------------------\u001b[39m",
            "\u001b[31mMlflowException\u001b[39m                           Traceback (most recent call last)",
            "\u001b[36mCell\u001b[39m\u001b[36m \u001b[39m\u001b[32mIn[43]\u001b[39m\u001b[32m, line 1\u001b[39m\n\u001b[32m----> \u001b[39m\u001b[32m1\u001b[39m \u001b[38;5;28;01mwith\u001b[39;00m mlflow.start_run(run_name=\u001b[33m'\u001b[39m\u001b[33mexperiment_mlops_ead\u001b[39m\u001b[33m'\u001b[39m) \u001b[38;5;28;01mas\u001b[39;00m run:\n\u001b[32m      2\u001b[39m   model.fit(X_train,\n\u001b[32m      3\u001b[39m             y_train,\n\u001b[32m      4\u001b[39m             epochs=\u001b[32m50\u001b[39m,\n\u001b[32m      5\u001b[39m             validation_split=\u001b[32m0.2\u001b[39m,\n\u001b[32m      6\u001b[39m             verbose=\u001b[32m3\u001b[39m)\n",
            "\u001b[36mFile \u001b[39m\u001b[32mc:\\ProgramData\\anaconda3\\envs\\mlops-env\\Lib\\site-packages\\mlflow\\tracking\\fluent.py:382\u001b[39m, in \u001b[36mstart_run\u001b[39m\u001b[34m(run_id, experiment_id, run_name, nested, tags, description, log_system_metrics)\u001b[39m\n\u001b[32m    378\u001b[39m         user_specified_tags[MLFLOW_RUN_NAME] = run_name\n\u001b[32m    380\u001b[39m     resolved_tags = context_registry.resolve_tags(user_specified_tags)\n\u001b[32m--> \u001b[39m\u001b[32m382\u001b[39m     active_run_obj = client.create_run(\n\u001b[32m    383\u001b[39m         experiment_id=exp_id_for_run,\n\u001b[32m    384\u001b[39m         tags=resolved_tags,\n\u001b[32m    385\u001b[39m         run_name=run_name,\n\u001b[32m    386\u001b[39m     )\n\u001b[32m    388\u001b[39m \u001b[38;5;28;01mif\u001b[39;00m log_system_metrics \u001b[38;5;129;01mis\u001b[39;00m \u001b[38;5;28;01mNone\u001b[39;00m:\n\u001b[32m    389\u001b[39m     \u001b[38;5;66;03m# If `log_system_metrics` is not specified, we will check environment variable.\u001b[39;00m\n\u001b[32m    390\u001b[39m     log_system_metrics = MLFLOW_ENABLE_SYSTEM_METRICS_LOGGING.get()\n",
            "\u001b[36mFile \u001b[39m\u001b[32mc:\\ProgramData\\anaconda3\\envs\\mlops-env\\Lib\\site-packages\\mlflow\\tracking\\client.py:358\u001b[39m, in \u001b[36mMlflowClient.create_run\u001b[39m\u001b[34m(self, experiment_id, start_time, tags, run_name)\u001b[39m\n\u001b[32m    304\u001b[39m \u001b[38;5;28;01mdef\u001b[39;00m\u001b[38;5;250m \u001b[39m\u001b[34mcreate_run\u001b[39m(\n\u001b[32m    305\u001b[39m     \u001b[38;5;28mself\u001b[39m,\n\u001b[32m    306\u001b[39m     experiment_id: \u001b[38;5;28mstr\u001b[39m,\n\u001b[32m   (...)\u001b[39m\u001b[32m    309\u001b[39m     run_name: Optional[\u001b[38;5;28mstr\u001b[39m] = \u001b[38;5;28;01mNone\u001b[39;00m,\n\u001b[32m    310\u001b[39m ) -> Run:\n\u001b[32m    311\u001b[39m \u001b[38;5;250m    \u001b[39m\u001b[33;03m\"\"\"\u001b[39;00m\n\u001b[32m    312\u001b[39m \u001b[33;03m    Create a :py:class:`mlflow.entities.Run` object that can be associated with\u001b[39;00m\n\u001b[32m    313\u001b[39m \u001b[33;03m    metrics, parameters, artifacts, etc.\u001b[39;00m\n\u001b[32m   (...)\u001b[39m\u001b[32m    356\u001b[39m \u001b[33;03m        status: RUNNING\u001b[39;00m\n\u001b[32m    357\u001b[39m \u001b[33;03m    \"\"\"\u001b[39;00m\n\u001b[32m--> \u001b[39m\u001b[32m358\u001b[39m     \u001b[38;5;28;01mreturn\u001b[39;00m \u001b[38;5;28mself\u001b[39m._tracking_client.create_run(experiment_id, start_time, tags, run_name)\n",
            "\u001b[36mFile \u001b[39m\u001b[32mc:\\ProgramData\\anaconda3\\envs\\mlops-env\\Lib\\site-packages\\mlflow\\tracking\\_tracking_service\\client.py:139\u001b[39m, in \u001b[36mTrackingServiceClient.create_run\u001b[39m\u001b[34m(self, experiment_id, start_time, tags, run_name)\u001b[39m\n\u001b[32m    134\u001b[39m \u001b[38;5;66;03m# Extract user from tags\u001b[39;00m\n\u001b[32m    135\u001b[39m \u001b[38;5;66;03m# This logic is temporary; the user_id attribute of runs is deprecated and will be removed\u001b[39;00m\n\u001b[32m    136\u001b[39m \u001b[38;5;66;03m# in a later release.\u001b[39;00m\n\u001b[32m    137\u001b[39m user_id = tags.get(MLFLOW_USER, \u001b[33m\"\u001b[39m\u001b[33munknown\u001b[39m\u001b[33m\"\u001b[39m)\n\u001b[32m--> \u001b[39m\u001b[32m139\u001b[39m \u001b[38;5;28;01mreturn\u001b[39;00m \u001b[38;5;28mself\u001b[39m.store.create_run(\n\u001b[32m    140\u001b[39m     experiment_id=experiment_id,\n\u001b[32m    141\u001b[39m     user_id=user_id,\n\u001b[32m    142\u001b[39m     start_time=start_time \u001b[38;5;129;01mor\u001b[39;00m get_current_time_millis(),\n\u001b[32m    143\u001b[39m     tags=[RunTag(key, value) \u001b[38;5;28;01mfor\u001b[39;00m (key, value) \u001b[38;5;129;01min\u001b[39;00m tags.items()],\n\u001b[32m    144\u001b[39m     run_name=run_name,\n\u001b[32m    145\u001b[39m )\n",
            "\u001b[36mFile \u001b[39m\u001b[32mc:\\ProgramData\\anaconda3\\envs\\mlops-env\\Lib\\site-packages\\mlflow\\store\\tracking\\file_store.py:608\u001b[39m, in \u001b[36mFileStore.create_run\u001b[39m\u001b[34m(self, experiment_id, user_id, start_time, tags, run_name)\u001b[39m\n\u001b[32m    604\u001b[39m \u001b[38;5;250m\u001b[39m\u001b[33;03m\"\"\"\u001b[39;00m\n\u001b[32m    605\u001b[39m \u001b[33;03mCreates a run with the specified attributes.\u001b[39;00m\n\u001b[32m    606\u001b[39m \u001b[33;03m\"\"\"\u001b[39;00m\n\u001b[32m    607\u001b[39m experiment_id = FileStore.DEFAULT_EXPERIMENT_ID \u001b[38;5;28;01mif\u001b[39;00m experiment_id \u001b[38;5;129;01mis\u001b[39;00m \u001b[38;5;28;01mNone\u001b[39;00m \u001b[38;5;28;01melse\u001b[39;00m experiment_id\n\u001b[32m--> \u001b[39m\u001b[32m608\u001b[39m experiment = \u001b[38;5;28mself\u001b[39m.get_experiment(experiment_id)\n\u001b[32m    609\u001b[39m \u001b[38;5;28;01mif\u001b[39;00m experiment \u001b[38;5;129;01mis\u001b[39;00m \u001b[38;5;28;01mNone\u001b[39;00m:\n\u001b[32m    610\u001b[39m     \u001b[38;5;28;01mraise\u001b[39;00m MlflowException(\n\u001b[32m    611\u001b[39m         \u001b[33m\"\u001b[39m\u001b[33mCould not create run under experiment with ID \u001b[39m\u001b[38;5;132;01m%s\u001b[39;00m\u001b[33m - no such experiment \u001b[39m\u001b[33m\"\u001b[39m\n\u001b[32m    612\u001b[39m         \u001b[33m\"\u001b[39m\u001b[33mexists.\u001b[39m\u001b[33m\"\u001b[39m % experiment_id,\n\u001b[32m    613\u001b[39m         databricks_pb2.RESOURCE_DOES_NOT_EXIST,\n\u001b[32m    614\u001b[39m     )\n",
            "\u001b[36mFile \u001b[39m\u001b[32mc:\\ProgramData\\anaconda3\\envs\\mlops-env\\Lib\\site-packages\\mlflow\\store\\tracking\\file_store.py:421\u001b[39m, in \u001b[36mFileStore.get_experiment\u001b[39m\u001b[34m(self, experiment_id)\u001b[39m\n\u001b[32m    410\u001b[39m \u001b[38;5;250m\u001b[39m\u001b[33;03m\"\"\"\u001b[39;00m\n\u001b[32m    411\u001b[39m \u001b[33;03mFetch the experiment.\u001b[39;00m\n\u001b[32m    412\u001b[39m \u001b[33;03mNote: This API will search for active as well as deleted experiments.\u001b[39;00m\n\u001b[32m   (...)\u001b[39m\u001b[32m    418\u001b[39m \u001b[33;03m    A single Experiment object if it exists, otherwise raises an Exception.\u001b[39;00m\n\u001b[32m    419\u001b[39m \u001b[33;03m\"\"\"\u001b[39;00m\n\u001b[32m    420\u001b[39m experiment_id = FileStore.DEFAULT_EXPERIMENT_ID \u001b[38;5;28;01mif\u001b[39;00m experiment_id \u001b[38;5;129;01mis\u001b[39;00m \u001b[38;5;28;01mNone\u001b[39;00m \u001b[38;5;28;01melse\u001b[39;00m experiment_id\n\u001b[32m--> \u001b[39m\u001b[32m421\u001b[39m experiment = \u001b[38;5;28mself\u001b[39m._get_experiment(experiment_id)\n\u001b[32m    422\u001b[39m \u001b[38;5;28;01mif\u001b[39;00m experiment \u001b[38;5;129;01mis\u001b[39;00m \u001b[38;5;28;01mNone\u001b[39;00m:\n\u001b[32m    423\u001b[39m     \u001b[38;5;28;01mraise\u001b[39;00m MlflowException(\n\u001b[32m    424\u001b[39m         \u001b[33mf\u001b[39m\u001b[33m\"\u001b[39m\u001b[33mExperiment \u001b[39m\u001b[33m'\u001b[39m\u001b[38;5;132;01m{\u001b[39;00mexperiment_id\u001b[38;5;132;01m}\u001b[39;00m\u001b[33m'\u001b[39m\u001b[33m does not exist.\u001b[39m\u001b[33m\"\u001b[39m,\n\u001b[32m    425\u001b[39m         databricks_pb2.RESOURCE_DOES_NOT_EXIST,\n\u001b[32m    426\u001b[39m     )\n",
            "\u001b[36mFile \u001b[39m\u001b[32mc:\\ProgramData\\anaconda3\\envs\\mlops-env\\Lib\\site-packages\\mlflow\\store\\tracking\\file_store.py:391\u001b[39m, in \u001b[36mFileStore._get_experiment\u001b[39m\u001b[34m(self, experiment_id, view_type)\u001b[39m\n\u001b[32m    389\u001b[39m experiment_dir = \u001b[38;5;28mself\u001b[39m._get_experiment_path(experiment_id, view_type)\n\u001b[32m    390\u001b[39m \u001b[38;5;28;01mif\u001b[39;00m experiment_dir \u001b[38;5;129;01mis\u001b[39;00m \u001b[38;5;28;01mNone\u001b[39;00m:\n\u001b[32m--> \u001b[39m\u001b[32m391\u001b[39m     \u001b[38;5;28;01mraise\u001b[39;00m MlflowException(\n\u001b[32m    392\u001b[39m         \u001b[33mf\u001b[39m\u001b[33m\"\u001b[39m\u001b[33mCould not find experiment with ID \u001b[39m\u001b[38;5;132;01m{\u001b[39;00mexperiment_id\u001b[38;5;132;01m}\u001b[39;00m\u001b[33m\"\u001b[39m,\n\u001b[32m    393\u001b[39m         databricks_pb2.RESOURCE_DOES_NOT_EXIST,\n\u001b[32m    394\u001b[39m     )\n\u001b[32m    395\u001b[39m meta = FileStore._read_yaml(experiment_dir, FileStore.META_DATA_FILE_NAME)\n\u001b[32m    396\u001b[39m meta[\u001b[33m\"\u001b[39m\u001b[33mtags\u001b[39m\u001b[33m\"\u001b[39m] = \u001b[38;5;28mself\u001b[39m.get_all_experiment_tags(experiment_id)\n",
            "\u001b[31mMlflowException\u001b[39m: Could not find experiment with ID 446108634654556778"
          ]
        }
      ],
      "source": [
        "with mlflow.start_run(run_name='experiment_mlops_ead') as run:\n",
        "  model.fit(X_train,\n",
        "            y_train,\n",
        "            epochs=50,\n",
        "            validation_split=0.2,\n",
        "            verbose=3)"
      ]
    },
    {
      "cell_type": "code",
      "execution_count": null,
      "metadata": {
        "id": "T6U0Jydaivi0"
      },
      "outputs": [],
      "source": []
    }
  ],
  "metadata": {
    "colab": {
      "provenance": []
    },
    "kernelspec": {
      "display_name": "mlops-env",
      "language": "python",
      "name": "python3"
    },
    "language_info": {
      "codemirror_mode": {
        "name": "ipython",
        "version": 3
      },
      "file_extension": ".py",
      "mimetype": "text/x-python",
      "name": "python",
      "nbconvert_exporter": "python",
      "pygments_lexer": "ipython3",
      "version": "3.12.11"
    }
  },
  "nbformat": 4,
  "nbformat_minor": 0
}
